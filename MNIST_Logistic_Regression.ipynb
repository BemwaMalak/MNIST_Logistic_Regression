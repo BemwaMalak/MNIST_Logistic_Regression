{
  "cells": [
    {
      "cell_type": "code",
      "execution_count": 29,
      "metadata": {
        "id": "REC3-BDhEbnP"
      },
      "outputs": [],
      "source": [
        "from tensorflow.keras.datasets import mnist\n",
        "from matplotlib import pyplot\n",
        "import numpy as np"
      ]
    },
    {
      "cell_type": "code",
      "execution_count": 30,
      "metadata": {
        "id": "mYJMn62aFCmF"
      },
      "outputs": [],
      "source": [
        "# Loading the dataset\n",
        "(X_train, y_train), (X_test, y_test) = mnist.load_data()"
      ]
    },
    {
      "cell_type": "code",
      "execution_count": 31,
      "metadata": {
        "colab": {
          "base_uri": "https://localhost:8080/"
        },
        "id": "WH5fEt8pFhgm",
        "outputId": "e6edf8b6-e3ed-43b6-cd67-157a5a96b6ea"
      },
      "outputs": [
        {
          "name": "stdout",
          "output_type": "stream",
          "text": [
            "(60000, 28, 28)\n"
          ]
        }
      ],
      "source": [
        "# Checking the shape of the dataset\n",
        "print(X_train.shape)"
      ]
    },
    {
      "cell_type": "code",
      "execution_count": 32,
      "metadata": {
        "id": "El10lthAFxEd"
      },
      "outputs": [],
      "source": [
        "# Reshaping the dataset to be 2D (combining the 2nd and 3rd dimension to one dimension (28 * 28))\n",
        "X_train = X_train.reshape(X_train.shape[0], -1)\n",
        "X_test = X_test.reshape(X_test.shape[0], -1)"
      ]
    },
    {
      "cell_type": "code",
      "execution_count": 33,
      "metadata": {
        "colab": {
          "base_uri": "https://localhost:8080/"
        },
        "id": "oLgfCfEPGHrt",
        "outputId": "f10c8b39-33c7-451e-96f0-fc556f541d91"
      },
      "outputs": [
        {
          "name": "stdout",
          "output_type": "stream",
          "text": [
            "(60000, 784)\n"
          ]
        }
      ],
      "source": [
        "# Checking the new shape of the dataset\n",
        "print(X_train.shape)"
      ]
    },
    {
      "cell_type": "code",
      "execution_count": 34,
      "metadata": {
        "id": "ATYrfCUuJ9RV"
      },
      "outputs": [],
      "source": [
        "# Filtering the dataset to only use classes 0 and 1 (using boolean masks in numpy)\n",
        "train_mask = (y_train == 0) | (y_train == 1)\n",
        "test_mask = (y_test == 0) | (y_test == 1)\n",
        "\n",
        "(X_train, X_test), (y_train, y_test) = (X_train[train_mask], X_test[test_mask]), (y_train[train_mask], y_test[test_mask])"
      ]
    },
    {
      "cell_type": "code",
      "execution_count": 35,
      "metadata": {
        "id": "xDGH3f1-griK"
      },
      "outputs": [],
      "source": [
        "# taking only 1000 sample from the dataset\n",
        "(X_train, y_train), (X_test, y_test) = (X_train[:1000], y_train[:1000]), (X_test[:1000], y_test[:1000])"
      ]
    },
    {
      "cell_type": "code",
      "execution_count": 36,
      "metadata": {
        "id": "1U-4X1JtGQtc"
      },
      "outputs": [],
      "source": [
        "# Standardization function\n",
        "def standardize(X):\n",
        "  mean = np.mean(X)\n",
        "  std = np.std(X)\n",
        "  return (X - mean) / std"
      ]
    },
    {
      "cell_type": "code",
      "execution_count": 37,
      "metadata": {
        "id": "2nZo_hPLUAi1"
      },
      "outputs": [],
      "source": [
        "# Sigmoid function\n",
        "def sigmoid(z):\n",
        "  return 1 / (1 + np.exp(-z))"
      ]
    },
    {
      "cell_type": "code",
      "execution_count": 38,
      "metadata": {
        "id": "cAy2gXOoG4MY"
      },
      "outputs": [],
      "source": [
        "# Standardizing the test set\n",
        "X_test = standardize(X_test)"
      ]
    },
    {
      "cell_type": "code",
      "execution_count": 39,
      "metadata": {
        "id": "hSvucUCXISIk"
      },
      "outputs": [],
      "source": [
        "# K-fold cross validation function\n",
        "def K_fold_cross_validation(X, y, k, model):\n",
        "  # Number of samples\n",
        "  m = X.shape[0]\n",
        "\n",
        "  indices = np.arange(m)\n",
        "  folds = np.array_split(indices, k)\n",
        "\n",
        "  accuracies = []\n",
        "\n",
        "  for i in range(k):\n",
        "    validate_indices = folds[i]\n",
        "    train_indices = np.concatenate(folds[:i] + folds[i+1:])\n",
        "\n",
        "    X_train, X_validate = X[train_indices], X[validate_indices]\n",
        "    y_train, y_validate = y[train_indices], y[validate_indices]\n",
        "\n",
        "    X_train = standardize(X_train)\n",
        "    X_validate = standardize(X_validate)\n",
        "\n",
        "    model.fit(X_train, y_train)\n",
        "    accuracy = model.accuracy(X_validate, y_validate)\n",
        "    accuracies.append(accuracy)\n",
        "  \n",
        "  return np.mean(accuracies)"
      ]
    },
    {
      "cell_type": "code",
      "execution_count": 40,
      "metadata": {
        "id": "AaUka7bNPaYn"
      },
      "outputs": [],
      "source": [
        "# Implementing Logistic Regression\n",
        "class LogisticRegression():\n",
        "  def __init__(self, w, b, eta, epochs):\n",
        "    self.w = w\n",
        "    self.b = b\n",
        "    self.eta = eta\n",
        "    self.epochs = epochs\n",
        "  \n",
        "  def accuracy(self, X, y):\n",
        "    y_pred = self.predict(X)\n",
        "    return np.mean(y_pred == y) * 100\n",
        "  \n",
        "  def predict(self, X, threshold = 0.5):\n",
        "    z = np.dot(self.w, X.T) + self.b\n",
        "    return (sigmoid(z) >= threshold).astype(int)\n",
        "\n",
        "  def fit(self, X, y):\n",
        "    # Number of samples\n",
        "    m = X.shape[0]\n",
        "    for _ in range(self.epochs):\n",
        "      z = np.dot(self.w, X.T) + self.b\n",
        "\n",
        "      phiZ = sigmoid(z)\n",
        "\n",
        "      self.w = self.w - ((self.eta * np.dot((phiZ - y), X)) / m)\n",
        "      self.b = self.b - self.eta * np.mean(phiZ - y)\n"
      ]
    },
    {
      "cell_type": "code",
      "execution_count": 41,
      "metadata": {
        "id": "CZNCGUl7dNt9"
      },
      "outputs": [],
      "source": [
        "learning_rates = [0.1, 0.01, 0.001, 0.0001]"
      ]
    },
    {
      "cell_type": "code",
      "execution_count": 42,
      "metadata": {
        "colab": {
          "base_uri": "https://localhost:8080/"
        },
        "id": "7wk2Tbc7dTEj",
        "outputId": "9ee04f9b-398f-4b43-d879-13823e664c3e"
      },
      "outputs": [
        {
          "name": "stdout",
          "output_type": "stream",
          "text": [
            "Learning rate: 0.1 have accuracy: 99.7\n",
            "Learning rate: 0.01 have accuracy: 99.5\n",
            "Learning rate: 0.001 have accuracy: 94.3\n",
            "Learning rate: 0.0001 have accuracy: 47.7\n",
            "Final model accuracy: 100.0\n"
          ]
        }
      ],
      "source": [
        "learning_rates_scores = []\n",
        "for lr in learning_rates:\n",
        "  model = LogisticRegression(np.random.rand(X_train.shape[1]), np.random.rand(), lr, 1000)\n",
        "  score = K_fold_cross_validation(X_train, y_train, 10, model)\n",
        "\n",
        "  learning_rates_scores.append(score)\n",
        "\n",
        "for lr, accuracy in zip(learning_rates, learning_rates_scores):\n",
        "  print(f'Learning rate: {lr} have accuracy: {accuracy}')\n",
        "\n",
        "best_learning_rate = learning_rates[learning_rates_scores.index(max(learning_rates_scores))]\n",
        "model = LogisticRegression(np.random.rand(X_train.shape[1]), np.random.rand(), best_learning_rate, 1000)\n",
        "score = K_fold_cross_validation(X_test, y_test, 10, model)\n",
        "\n",
        "print(f'Final model accuracy: {score}')"
      ]
    },
    {
      "cell_type": "code",
      "execution_count": null,
      "metadata": {
        "id": "UUxMyu4hAGK-"
      },
      "outputs": [],
      "source": []
    }
  ],
  "metadata": {
    "colab": {
      "provenance": []
    },
    "kernelspec": {
      "display_name": "Python 3",
      "name": "python3"
    },
    "language_info": {
      "codemirror_mode": {
        "name": "ipython",
        "version": 3
      },
      "file_extension": ".py",
      "mimetype": "text/x-python",
      "name": "python",
      "nbconvert_exporter": "python",
      "pygments_lexer": "ipython3",
      "version": "3.10.0"
    }
  },
  "nbformat": 4,
  "nbformat_minor": 0
}
