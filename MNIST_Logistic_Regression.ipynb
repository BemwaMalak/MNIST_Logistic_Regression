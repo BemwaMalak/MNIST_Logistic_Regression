{
  "nbformat": 4,
  "nbformat_minor": 0,
  "metadata": {
    "colab": {
      "provenance": []
    },
    "kernelspec": {
      "name": "python3",
      "display_name": "Python 3"
    },
    "language_info": {
      "name": "python"
    }
  },
  "cells": [
    {
      "cell_type": "code",
      "execution_count": 1,
      "metadata": {
        "id": "REC3-BDhEbnP"
      },
      "outputs": [],
      "source": [
        "from tensorflow.keras.datasets import mnist\n",
        "from matplotlib import pyplot\n",
        "import numpy as np"
      ]
    },
    {
      "cell_type": "code",
      "source": [
        "# Loading the dataset\n",
        "(X_train, y_train), (X_test, y_test) = mnist.load_data()"
      ],
      "metadata": {
        "id": "mYJMn62aFCmF"
      },
      "execution_count": 2,
      "outputs": []
    },
    {
      "cell_type": "code",
      "source": [
        "# Checking the shape of the dataset\n",
        "X_train.shape"
      ],
      "metadata": {
        "colab": {
          "base_uri": "https://localhost:8080/"
        },
        "id": "WH5fEt8pFhgm",
        "outputId": "8829ab33-a0f1-4572-f462-5192a35358a8"
      },
      "execution_count": 3,
      "outputs": [
        {
          "output_type": "execute_result",
          "data": {
            "text/plain": [
              "(60000, 28, 28)"
            ]
          },
          "metadata": {},
          "execution_count": 3
        }
      ]
    },
    {
      "cell_type": "code",
      "source": [
        "# Reshaping the dataset to be 2D (combining the 2nd and 3rd dimension to one dimension (28 * 28))\n",
        "X_train = X_train.reshape(X_train.shape[0], -1)\n",
        "X_test = X_test.reshape(X_test.shape[0], -1)"
      ],
      "metadata": {
        "id": "El10lthAFxEd"
      },
      "execution_count": 4,
      "outputs": []
    },
    {
      "cell_type": "code",
      "source": [
        "# Checking the new shape of the dataset\n",
        "X_train.shape"
      ],
      "metadata": {
        "colab": {
          "base_uri": "https://localhost:8080/"
        },
        "id": "oLgfCfEPGHrt",
        "outputId": "107cadc4-1f98-435d-fa4b-4009e1c127f8"
      },
      "execution_count": 5,
      "outputs": [
        {
          "output_type": "execute_result",
          "data": {
            "text/plain": [
              "(60000, 784)"
            ]
          },
          "metadata": {},
          "execution_count": 5
        }
      ]
    },
    {
      "cell_type": "code",
      "source": [
        "# Filtering the dataset to only use classes 0 and 1 (using boolean masks in numpy)\n",
        "train_mask = (y_train == 0) | (y_train == 1)\n",
        "test_mask = (y_test == 0) | (y_test == 1)\n",
        "\n",
        "(X_train, X_test), (y_train, y_test) = (X_train[train_mask], X_test[test_mask]), (y_train[train_mask], y_test[test_mask])"
      ],
      "metadata": {
        "id": "ATYrfCUuJ9RV"
      },
      "execution_count": 6,
      "outputs": []
    },
    {
      "cell_type": "code",
      "source": [
        "# taking only 1000 sample from the dataset\n",
        "(X_train, y_train), (X_test, y_test) = (X_train[:1000], y_train[:1000]), (X_test[:1000], y_test[:1000])"
      ],
      "metadata": {
        "id": "xDGH3f1-griK"
      },
      "execution_count": 7,
      "outputs": []
    },
    {
      "cell_type": "code",
      "source": [
        "# Standardization function\n",
        "def standardize(X, means, stds):\n",
        "  stds[stds == 0] = 1\n",
        "  return (X - means) / stds"
      ],
      "metadata": {
        "id": "1U-4X1JtGQtc"
      },
      "execution_count": 8,
      "outputs": []
    },
    {
      "cell_type": "code",
      "source": [
        "# Sigmoid function\n",
        "def sigmoid(z):\n",
        "  return 1 / (1 + np.exp(-z))"
      ],
      "metadata": {
        "id": "2nZo_hPLUAi1"
      },
      "execution_count": 9,
      "outputs": []
    },
    {
      "cell_type": "code",
      "source": [
        "# K-fold cross validation function\n",
        "def K_fold_cross_validation(X, y, k, model):\n",
        "  # Number of samples\n",
        "  m = X.shape[0]\n",
        "\n",
        "  indices = np.arange(m)\n",
        "  folds = np.array_split(indices, k)\n",
        "\n",
        "  accuracies = []\n",
        "\n",
        "  for i in range(k):\n",
        "    validate_indices = folds[i]\n",
        "    train_indices = np.concatenate(folds[:i] + folds[i+1:])\n",
        "\n",
        "    X_train, X_validate = X[train_indices], X[validate_indices]\n",
        "    y_train, y_validate = y[train_indices], y[validate_indices]\n",
        "\n",
        "    X_train_means = np.mean(X_train, axis=0)\n",
        "    X_train_stds = np.std(X_train, axis=0)\n",
        "\n",
        "    X_train = standardize(X_train, X_train_means, X_train_stds)\n",
        "    X_validate = standardize(X_validate, X_train_means, X_train_stds)\n",
        "    \n",
        "    model.fit(X_train, y_train)\n",
        "    accuracy = model.accuracy(X_validate, y_validate)\n",
        "    accuracies.append(accuracy)\n",
        "  \n",
        "  return np.mean(accuracies)"
      ],
      "metadata": {
        "id": "hSvucUCXISIk"
      },
      "execution_count": 10,
      "outputs": []
    },
    {
      "cell_type": "code",
      "source": [
        "# Implementing Logistic Regression\n",
        "class LogisticRegression():\n",
        "  def __init__(self, w, b, eta, epochs):\n",
        "    self.w = w\n",
        "    self.b = b\n",
        "    self.eta = eta\n",
        "    self.epochs = epochs\n",
        "  \n",
        "  def accuracy(self, X, y):\n",
        "    y_pred = self.predict(X)\n",
        "    return np.mean(y_pred == y) * 100\n",
        "  \n",
        "  def predict(self, X, threshold = 0.5):\n",
        "    z = np.dot(self.w, X.T) + self.b\n",
        "    return (sigmoid(z) >= threshold).astype(int)\n",
        "\n",
        "  def fit(self, X, y):\n",
        "    # Number of samples\n",
        "    m = X.shape[0]\n",
        "    for _ in range(self.epochs):\n",
        "      z = np.dot(self.w, X.T) + self.b\n",
        "\n",
        "      phiZ = sigmoid(z)\n",
        "\n",
        "      self.w = self.w - ((self.eta * np.dot((phiZ - y), X)) / m)\n",
        "      self.b = self.b - self.eta * np.mean(phiZ - y)\n"
      ],
      "metadata": {
        "id": "AaUka7bNPaYn"
      },
      "execution_count": 11,
      "outputs": []
    },
    {
      "cell_type": "code",
      "source": [
        "learning_rates = [0.1, 0.01, 0.001, 0.0001]"
      ],
      "metadata": {
        "id": "CZNCGUl7dNt9"
      },
      "execution_count": 12,
      "outputs": []
    },
    {
      "cell_type": "code",
      "source": [
        "learning_rates_scores = []\n",
        "for lr in learning_rates:\n",
        "  model = LogisticRegression(np.random.rand(X_train.shape[1]), np.random.rand(), lr, 1000)\n",
        "  score = K_fold_cross_validation(X_train, y_train, 10, model)\n",
        "\n",
        "  learning_rates_scores.append(score)\n",
        "\n",
        "for lr, accuracy in zip(learning_rates, learning_rates_scores):\n",
        "  print(f'Learning rate: {lr} have accuracy: {accuracy}')\n",
        "\n",
        "best_learning_rate = learning_rates[learning_rates_scores.index(max(learning_rates_scores))]\n",
        "model = LogisticRegression(np.random.rand(X_train.shape[1]), np.random.rand(), best_learning_rate, 1000)\n",
        "\n",
        "X_train_means = np.mean(X_train, axis=0)\n",
        "X_train_stds = np.std(X_train, axis=0)\n",
        "\n",
        "# Standardizing the train set\n",
        "X_train = standardize(X_train, X_train_means, X_train_stds)\n",
        "\n",
        "# Standardizing the test set\n",
        "X_test = standardize(X_test, X_train_means, X_train_stds)\n",
        "\n",
        "model.fit(X_train, y_train)\n",
        "score = model.accuracy(X_test, y_test)\n",
        "\n",
        "print(f'Final model accuracy: {score}')\n"
      ],
      "metadata": {
        "colab": {
          "base_uri": "https://localhost:8080/"
        },
        "id": "7wk2Tbc7dTEj",
        "outputId": "7b1b2a15-99e0-47c8-97da-c0cb7a472efc"
      },
      "execution_count": 13,
      "outputs": [
        {
          "output_type": "stream",
          "name": "stdout",
          "text": [
            "Learning rate: 0.1 have accuracy: 99.3\n",
            "Learning rate: 0.01 have accuracy: 98.6\n",
            "Learning rate: 0.001 have accuracy: 93.6\n",
            "Learning rate: 0.0001 have accuracy: 32.6\n",
            "Final model accuracy: 98.3\n"
          ]
        }
      ]
    },
    {
      "cell_type": "code",
      "source": [],
      "metadata": {
        "id": "UUxMyu4hAGK-"
      },
      "execution_count": 13,
      "outputs": []
    }
  ]
}